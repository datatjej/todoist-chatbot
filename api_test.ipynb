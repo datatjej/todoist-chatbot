{
 "cells": [
  {
   "cell_type": "code",
   "execution_count": 1,
   "metadata": {},
   "outputs": [],
   "source": [
    "from todoist.api import TodoistAPI"
   ]
  },
  {
   "cell_type": "code",
   "execution_count": 2,
   "metadata": {},
   "outputs": [
    {
     "data": {
      "text/plain": [
       "{'collaborator_states': [],\n",
       " 'collaborators': [],\n",
       " 'day_orders': {},\n",
       " 'day_orders_timestamp': '1344642991.1',\n",
       " 'due_exceptions': [],\n",
       " 'filters': [],\n",
       " 'full_sync': False,\n",
       " 'items': [],\n",
       " 'labels': [],\n",
       " 'live_notifications': [],\n",
       " 'live_notifications_last_read_id': 2329496518,\n",
       " 'notes': [],\n",
       " 'project_notes': [],\n",
       " 'projects': [{'child_order': 0,\n",
       "   'collapsed': 0,\n",
       "   'color': 47,\n",
       "   'id': 2249017476,\n",
       "   'is_archived': 0,\n",
       "   'is_deleted': 1,\n",
       "   'is_favorite': 0,\n",
       "   'name': '',\n",
       "   'parent_id': None,\n",
       "   'shared': False,\n",
       "   'sync_id': None},\n",
       "  {'child_order': 0,\n",
       "   'collapsed': 0,\n",
       "   'color': 47,\n",
       "   'id': 2249015345,\n",
       "   'is_archived': 0,\n",
       "   'is_deleted': 1,\n",
       "   'is_favorite': 0,\n",
       "   'name': '',\n",
       "   'parent_id': None,\n",
       "   'shared': False,\n",
       "   'sync_id': None},\n",
       "  {'child_order': 0,\n",
       "   'collapsed': 0,\n",
       "   'color': 47,\n",
       "   'id': 2249014722,\n",
       "   'is_archived': 0,\n",
       "   'is_deleted': 1,\n",
       "   'is_favorite': 0,\n",
       "   'name': '',\n",
       "   'parent_id': None,\n",
       "   'shared': False,\n",
       "   'sync_id': None},\n",
       "  {'child_order': 0,\n",
       "   'collapsed': 0,\n",
       "   'color': 47,\n",
       "   'id': 2249014672,\n",
       "   'is_archived': 0,\n",
       "   'is_deleted': 1,\n",
       "   'is_favorite': 0,\n",
       "   'name': '',\n",
       "   'parent_id': None,\n",
       "   'shared': False,\n",
       "   'sync_id': None}],\n",
       " 'reminders': [],\n",
       " 'sections': [],\n",
       " 'sync_token': 'bqYiQ-0cFbQCK4hvrwnIs4Ya5FSJuUS5CAts-kyq55TSKhdBvKxV0jx8KjapYBnaeB_pIRsJci73_vekeSzjEsBtS60jLIvGuhHMbBwAoIcvrqM',\n",
       " 'temp_id_mapping': {},\n",
       " 'user': {'auto_reminder': 30,\n",
       "  'business_account_id': None,\n",
       "  'daily_goal': 5,\n",
       "  'date_format': 0,\n",
       "  'dateist_inline_disabled': False,\n",
       "  'dateist_lang': None,\n",
       "  'days_off': [6, 7],\n",
       "  'default_reminder': 'email',\n",
       "  'email': 'tova.erben@gmail.com',\n",
       "  'features': {'beta': 0,\n",
       "   'dateist_inline_disabled': False,\n",
       "   'dateist_lang': None,\n",
       "   'has_push_reminders': True,\n",
       "   'karma_disabled': False,\n",
       "   'karma_vacation': False,\n",
       "   'restriction': 0},\n",
       "  'full_name': 'Tova Erbén',\n",
       "  'id': 29329351,\n",
       "  'image_id': None,\n",
       "  'inbox_project': 2242112128,\n",
       "  'is_biz_admin': False,\n",
       "  'is_premium': False,\n",
       "  'join_date': '2020-08-17T13:44:50Z',\n",
       "  'karma': 2811.0,\n",
       "  'karma_trend': 'up',\n",
       "  'lang': 'en',\n",
       "  'mobile_host': None,\n",
       "  'mobile_number': None,\n",
       "  'next_week': 1,\n",
       "  'premium_until': None,\n",
       "  'share_limit': 25,\n",
       "  'sort_order': 0,\n",
       "  'start_day': 1,\n",
       "  'start_page': 'overdue, today',\n",
       "  'theme': 0,\n",
       "  'time_format': 0,\n",
       "  'token': 'cfe47f00114285b63c26f70ee05aafe093e8c839',\n",
       "  'tz_info': {'gmt_string': '+01:00',\n",
       "   'hours': 1,\n",
       "   'is_dst': 0,\n",
       "   'minutes': 0,\n",
       "   'timezone': 'Europe/Stockholm'},\n",
       "  'unique_prefix': 8,\n",
       "  'websocket_url': 'wss://ws.todoist.com/ws?token=87458ea996be543b',\n",
       "  'weekly_goal': 30},\n",
       " 'view_options': []}"
      ]
     },
     "execution_count": 2,
     "metadata": {},
     "output_type": "execute_result"
    }
   ],
   "source": [
    "api = TodoistAPI('cfe47f00114285b63c26f70ee05aafe093e8c839')\n",
    "api.sync()"
   ]
  },
  {
   "cell_type": "code",
   "execution_count": 6,
   "metadata": {},
   "outputs": [
    {
     "name": "stdout",
     "output_type": "stream",
     "text": [
      "Project({'child_order': 3,\n",
      " 'collapsed': 0,\n",
      " 'color': 45,\n",
      " 'has_more_notes': False,\n",
      " 'id': 2243881680,\n",
      " 'is_archived': 0,\n",
      " 'is_deleted': 0,\n",
      " 'is_favorite': 0,\n",
      " 'name': 'Today',\n",
      " 'parent_id': None,\n",
      " 'shared': False,\n",
      " 'sync_id': None})\n",
      "2243881680\n",
      "Inbox\n"
     ]
    }
   ],
   "source": [
    "project_names = []\n",
    "selected_project = 'Today'\n",
    "for project in api.state['projects']:\n",
    "    if project['name'] == selected_project:\n",
    "        target_project = project\n",
    "        print(target_project)\n",
    "        target_id = target_project['id']\n",
    "        print(target_id)\n",
    "    project_names.append(project['name'])\n",
    "print(project_names[0])"
   ]
  },
  {
   "cell_type": "code",
   "execution_count": null,
   "metadata": {},
   "outputs": [],
   "source": [
    "projects_to_string = ', '.join([str(elem) for elem in projects])\n",
    "print(projects_to_string)"
   ]
  },
  {
   "cell_type": "code",
   "execution_count": 13,
   "metadata": {},
   "outputs": [
    {
     "data": {
      "text/plain": [
       "{'collaborator_states': [],\n",
       " 'collaborators': [],\n",
       " 'day_orders': {},\n",
       " 'day_orders_timestamp': '1344642991.1',\n",
       " 'due_exceptions': [],\n",
       " 'filters': [],\n",
       " 'full_sync': False,\n",
       " 'items': [{'added_by_uid': 29329351,\n",
       "   'assigned_by_uid': None,\n",
       "   'checked': 0,\n",
       "   'child_order': 4,\n",
       "   'collapsed': 0,\n",
       "   'content': 'kunna lägga till tasks',\n",
       "   'date_added': '2020-10-31T18:13:42Z',\n",
       "   'date_completed': None,\n",
       "   'day_order': -1,\n",
       "   'due': None,\n",
       "   'id': 4299616026,\n",
       "   'in_history': 0,\n",
       "   'is_deleted': 0,\n",
       "   'labels': [],\n",
       "   'parent_id': None,\n",
       "   'priority': 1,\n",
       "   'project_id': 2243881680,\n",
       "   'responsible_uid': None,\n",
       "   'section_id': None,\n",
       "   'sync_id': None,\n",
       "   'user_id': 29329351}],\n",
       " 'labels': [],\n",
       " 'live_notifications': [],\n",
       " 'live_notifications_last_read_id': 2329496518,\n",
       " 'notes': [],\n",
       " 'project_notes': [],\n",
       " 'projects': [],\n",
       " 'reminders': [],\n",
       " 'sections': [],\n",
       " 'sync_status': {'cdbf4a80-1ba4-11eb-b395-54e1adfc8909': 'ok'},\n",
       " 'sync_token': 'Pr78hSc03ALO9uGC2dctOO2gx2wLnp1ivdCevETeZx7t3k9nOA0RIxun8NYaHqdpbdKlortIXcZ7G86DUS4Htd4ytdfPpVF1CaDs9Qe68DQlLPE',\n",
       " 'temp_id_mapping': {'cdbf02a0-1ba4-11eb-b395-54e1adfc8909': 4299616026},\n",
       " 'view_options': []}"
      ]
     },
     "execution_count": 13,
     "metadata": {},
     "output_type": "execute_result"
    }
   ],
   "source": [
    "task1 = api.items.add('kunna lägga till tasks', project_id=target_project['id'])\n",
    "api.commit()"
   ]
  },
  {
   "cell_type": "code",
   "execution_count": 3,
   "metadata": {},
   "outputs": [
    {
     "name": "stdout",
     "output_type": "stream",
     "text": [
      "Item({'added_by_uid': 29329351,\n",
      " 'assigned_by_uid': None,\n",
      " 'checked': 0,\n",
      " 'child_order': 1,\n",
      " 'collapsed': 0,\n",
      " 'content': 'Task1',\n",
      " 'date_added': '2020-11-01T23:40:09Z',\n",
      " 'date_completed': None,\n",
      " 'day_order': -1,\n",
      " 'due': None,\n",
      " 'id': 4301899028,\n",
      " 'in_history': 0,\n",
      " 'is_deleted': 0,\n",
      " 'labels': [],\n",
      " 'parent_id': None,\n",
      " 'priority': 1,\n",
      " 'project_id': 2249020198,\n",
      " 'responsible_uid': None,\n",
      " 'section_id': None,\n",
      " 'sync_id': None,\n",
      " 'user_id': 29329351}) Item({'added_by_uid': 29329351,\n",
      " 'assigned_by_uid': None,\n",
      " 'checked': 0,\n",
      " 'child_order': 2,\n",
      " 'collapsed': 0,\n",
      " 'content': 'Task2',\n",
      " 'date_added': '2020-11-01T23:40:09Z',\n",
      " 'date_completed': None,\n",
      " 'day_order': -1,\n",
      " 'due': None,\n",
      " 'id': 4301899030,\n",
      " 'in_history': 0,\n",
      " 'is_deleted': 0,\n",
      " 'labels': [],\n",
      " 'parent_id': None,\n",
      " 'priority': 1,\n",
      " 'project_id': 2249020198,\n",
      " 'responsible_uid': None,\n",
      " 'section_id': None,\n",
      " 'sync_id': None,\n",
      " 'user_id': 29329351})\n"
     ]
    }
   ],
   "source": [
    "project1 = api.projects.add('Shopping')\n",
    "task1 = api.items.add('Task1', project_id=project1['id'])\n",
    "task2 = api.items.add('Task2', project_id=project1['id'])\n",
    "api.commit()\n",
    "print(task1, task2)"
   ]
  },
  {
   "cell_type": "code",
   "execution_count": 4,
   "metadata": {},
   "outputs": [
    {
     "name": "stdout",
     "output_type": "stream",
     "text": [
      "Item({'added_by_uid': 29329351,\n",
      " 'assigned_by_uid': None,\n",
      " 'checked': 0,\n",
      " 'child_order': 2,\n",
      " 'collapsed': 0,\n",
      " 'content': 'Task1',\n",
      " 'date_added': '2020-11-01T23:43:56Z',\n",
      " 'date_completed': None,\n",
      " 'day_order': -1,\n",
      " 'due': None,\n",
      " 'id': 4301904584,\n",
      " 'in_history': 0,\n",
      " 'is_deleted': 0,\n",
      " 'labels': [],\n",
      " 'parent_id': None,\n",
      " 'priority': 1,\n",
      " 'project_id': 2242112128,\n",
      " 'responsible_uid': None,\n",
      " 'section_id': None,\n",
      " 'sync_id': None,\n",
      " 'user_id': 29329351})\n"
     ]
    }
   ],
   "source": [
    "task1 = api.items.add('Task1')\n",
    "api.commit()\n",
    "print(task1)"
   ]
  },
  {
   "cell_type": "code",
   "execution_count": null,
   "metadata": {},
   "outputs": [],
   "source": []
  }
 ],
 "metadata": {
  "kernelspec": {
   "display_name": "todoist_env",
   "language": "python",
   "name": "todoist_env"
  },
  "language_info": {
   "codemirror_mode": {
    "name": "ipython",
    "version": 3
   },
   "file_extension": ".py",
   "mimetype": "text/x-python",
   "name": "python",
   "nbconvert_exporter": "python",
   "pygments_lexer": "ipython3",
   "version": "3.7.0"
  }
 },
 "nbformat": 4,
 "nbformat_minor": 2
}
