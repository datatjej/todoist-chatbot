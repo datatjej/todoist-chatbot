{
 "cells": [
  {
   "cell_type": "code",
   "execution_count": 1,
   "metadata": {},
   "outputs": [],
   "source": [
    "from todoist.api import TodoistAPI"
   ]
  },
  {
   "cell_type": "code",
   "execution_count": 2,
   "metadata": {},
   "outputs": [
    {
     "data": {
      "text/plain": [
       "{'collaborator_states': [],\n",
       " 'collaborators': [],\n",
       " 'day_orders': {},\n",
       " 'day_orders_timestamp': '1344642991.1',\n",
       " 'due_exceptions': [],\n",
       " 'filters': [],\n",
       " 'full_sync': False,\n",
       " 'items': [],\n",
       " 'labels': [],\n",
       " 'live_notifications': [],\n",
       " 'live_notifications_last_read_id': 2329496518,\n",
       " 'notes': [],\n",
       " 'project_notes': [],\n",
       " 'projects': [],\n",
       " 'reminders': [],\n",
       " 'sections': [],\n",
       " 'sync_token': 'rmWtBslzxudLSZEsIeU5TkHNBkhnTqNAiib-kksYgVxlJ7fq9WewVomY1KqQpz1U4_HM2WfQgQec_feSo-HzlCoJYTt4V1qyt2JoJtDxx3mrABA',\n",
       " 'temp_id_mapping': {},\n",
       " 'view_options': []}"
      ]
     },
     "execution_count": 2,
     "metadata": {},
     "output_type": "execute_result"
    }
   ],
   "source": [
    "api = TodoistAPI('cfe47f00114285b63c26f70ee05aafe093e8c839')\n",
    "api.sync()"
   ]
  },
  {
   "cell_type": "code",
   "execution_count": 12,
   "metadata": {},
   "outputs": [
    {
     "name": "stdout",
     "output_type": "stream",
     "text": [
      "Inbox\n"
     ]
    }
   ],
   "source": [
    "project_names = []\n",
    "selected_project = 'Today'\n",
    "for project in api.state['projects']:\n",
    "    if project['name'] == selected_project:\n",
    "        target_project = project\n",
    "    project_names.append(project['name'])\n",
    "print(project_names[0])"
   ]
  },
  {
   "cell_type": "code",
   "execution_count": null,
   "metadata": {},
   "outputs": [],
   "source": [
    "projects_to_string = ', '.join([str(elem) for elem in projects])\n",
    "print(projects_to_string)"
   ]
  },
  {
   "cell_type": "code",
   "execution_count": 13,
   "metadata": {},
   "outputs": [
    {
     "data": {
      "text/plain": [
       "{'collaborator_states': [],\n",
       " 'collaborators': [],\n",
       " 'day_orders': {},\n",
       " 'day_orders_timestamp': '1344642991.1',\n",
       " 'due_exceptions': [],\n",
       " 'filters': [],\n",
       " 'full_sync': False,\n",
       " 'items': [{'added_by_uid': 29329351,\n",
       "   'assigned_by_uid': None,\n",
       "   'checked': 0,\n",
       "   'child_order': 4,\n",
       "   'collapsed': 0,\n",
       "   'content': 'kunna lägga till tasks',\n",
       "   'date_added': '2020-10-31T18:13:42Z',\n",
       "   'date_completed': None,\n",
       "   'day_order': -1,\n",
       "   'due': None,\n",
       "   'id': 4299616026,\n",
       "   'in_history': 0,\n",
       "   'is_deleted': 0,\n",
       "   'labels': [],\n",
       "   'parent_id': None,\n",
       "   'priority': 1,\n",
       "   'project_id': 2243881680,\n",
       "   'responsible_uid': None,\n",
       "   'section_id': None,\n",
       "   'sync_id': None,\n",
       "   'user_id': 29329351}],\n",
       " 'labels': [],\n",
       " 'live_notifications': [],\n",
       " 'live_notifications_last_read_id': 2329496518,\n",
       " 'notes': [],\n",
       " 'project_notes': [],\n",
       " 'projects': [],\n",
       " 'reminders': [],\n",
       " 'sections': [],\n",
       " 'sync_status': {'cdbf4a80-1ba4-11eb-b395-54e1adfc8909': 'ok'},\n",
       " 'sync_token': 'Pr78hSc03ALO9uGC2dctOO2gx2wLnp1ivdCevETeZx7t3k9nOA0RIxun8NYaHqdpbdKlortIXcZ7G86DUS4Htd4ytdfPpVF1CaDs9Qe68DQlLPE',\n",
       " 'temp_id_mapping': {'cdbf02a0-1ba4-11eb-b395-54e1adfc8909': 4299616026},\n",
       " 'view_options': []}"
      ]
     },
     "execution_count": 13,
     "metadata": {},
     "output_type": "execute_result"
    }
   ],
   "source": [
    "task1 = api.items.add('kunna lägga till tasks', project_id=target_project['id'])\n",
    "api.commit()"
   ]
  },
  {
   "cell_type": "code",
   "execution_count": null,
   "metadata": {},
   "outputs": [],
   "source": []
  }
 ],
 "metadata": {
  "kernelspec": {
   "display_name": "todoist_env",
   "language": "python",
   "name": "todoist_env"
  },
  "language_info": {
   "codemirror_mode": {
    "name": "ipython",
    "version": 3
   },
   "file_extension": ".py",
   "mimetype": "text/x-python",
   "name": "python",
   "nbconvert_exporter": "python",
   "pygments_lexer": "ipython3",
   "version": "3.7.0"
  }
 },
 "nbformat": 4,
 "nbformat_minor": 2
}
